{
 "cells": [
  {
   "cell_type": "code",
   "execution_count": null,
   "id": "ed395517-cf13-4006-9ca7-b69e8a457515",
   "metadata": {},
   "outputs": [],
   "source": [
    "import pandas as pd\n",
    "from tqdm.std import tqdm"
   ]
  },
  {
   "cell_type": "code",
   "execution_count": null,
   "id": "c3ed80f6-dbe3-400e-b5b5-d47612198bfb",
   "metadata": {},
   "outputs": [],
   "source": [
    "ground_truth_path = \"../passage_ranking_input_true_data/passage_ranking_relevance_score_ground_truth.tsv\"\n",
    "generate_result = \"../passage_output_result/gemma.tsv\"\n",
    "processed_output=\"Passage_Reranking_Input/\""
   ]
  },
  {
   "cell_type": "code",
   "execution_count": null,
   "id": "44c80d24-ab96-418b-94aa-d1b4239db32d",
   "metadata": {},
   "outputs": [],
   "source": [
    "model_name = \"gemma\""
   ]
  },
  {
   "cell_type": "code",
   "execution_count": null,
   "id": "8271419f-05c6-4887-8a4b-8dbf7ca596dc",
   "metadata": {},
   "outputs": [],
   "source": [
    "ground_truth_df = pd.read_csv(ground_truth_path,sep=\"\\t\")"
   ]
  },
  {
   "cell_type": "code",
   "execution_count": null,
   "id": "64d0f599-d1b5-42c0-8928-fdd3e519e50d",
   "metadata": {},
   "outputs": [],
   "source": [
    "ground_truth_df"
   ]
  },
  {
   "cell_type": "code",
   "execution_count": null,
   "id": "c7f29bc1-678a-42ae-bfb6-efeebdbd19f3",
   "metadata": {},
   "outputs": [],
   "source": [
    "generated_df = pd.read_csv(generate_result,sep=\"\\t\")"
   ]
  },
  {
   "cell_type": "code",
   "execution_count": null,
   "id": "f42541dc-65f0-4760-838e-aaa433e613a4",
   "metadata": {},
   "outputs": [],
   "source": [
    "generated_df"
   ]
  },
  {
   "cell_type": "code",
   "execution_count": null,
   "id": "61a614ae-3114-464a-abc9-40dfd5fe5507",
   "metadata": {},
   "outputs": [],
   "source": [
    "## For passage ranking\n",
    "combined_df = pd.merge(left=ground_truth_df, right=generated_df, left_on=[\"qid\",\"pid\"], right_on=[\"qid\",\"ranked_pid\"], how=\"right\")\n",
    "\n",
    "## For document ranking\n",
    "# combined_df = pd.merge(left=ground_truth_df, right=generated_df, left_on=[\"qid\",\"docid\"], right_on=[\"qid\",\"ranked_docid\"], how=\"right\") ## process the previous file"
   ]
  },
  {
   "cell_type": "code",
   "execution_count": null,
   "id": "fbd31e6e-b066-408f-9c4b-95ed17c06240",
   "metadata": {},
   "outputs": [],
   "source": [
    "combined_df.head(10)"
   ]
  },
  {
   "cell_type": "code",
   "execution_count": null,
   "id": "940637a2-8172-4338-aa86-d7e3ca863102",
   "metadata": {},
   "outputs": [],
   "source": [
    "# if the orginal generated_df doesn't have the rank\n",
    "combined_df[\"rank\"] = int(len(combined_df)/100)*list(range(1,101))"
   ]
  },
  {
   "cell_type": "code",
   "execution_count": null,
   "id": "3a0fe9a0-40c9-41f7-95e3-48695f54dd75",
   "metadata": {},
   "outputs": [],
   "source": [
    "combined_df"
   ]
  },
  {
   "cell_type": "code",
   "execution_count": null,
   "id": "0da4ef4e-de2b-4bb0-b095-4f7ab5bc7752",
   "metadata": {},
   "outputs": [],
   "source": [
    "combined_df = combined_df[[\"qid\", \"Q0\", \"ranked_pid\", \"rank\", \"relevance_score\"]]\n",
    "# combined_df = combined_df[[\"qid\", \"Q0\", \"ranked_docid\", \"rank\", \"relevance_score\"]]"
   ]
  },
  {
   "cell_type": "code",
   "execution_count": null,
   "id": "1ca6b6eb-09a2-4b08-afe0-85488211c259",
   "metadata": {},
   "outputs": [],
   "source": [
    "# combined_df.rename(columns={\"rank_y\":\"rank\"}, inplace=True)"
   ]
  },
  {
   "cell_type": "code",
   "execution_count": null,
   "id": "8d11ddd0-c306-449a-a896-ef69a2dcade7",
   "metadata": {},
   "outputs": [],
   "source": [
    "combined_df"
   ]
  },
  {
   "cell_type": "code",
   "execution_count": null,
   "id": "12b4e0ff-1b57-41af-ad1d-59aabcf13018",
   "metadata": {},
   "outputs": [],
   "source": [
    "combined_df.to_csv(f\"{processed_output}/{model_name}.tsv\", sep=\"\\t\", index=False)"
   ]
  },
  {
   "cell_type": "code",
   "execution_count": null,
   "id": "bd4f47aa-0b39-4795-9625-42e6c6af1325",
   "metadata": {},
   "outputs": [],
   "source": []
  }
 ],
 "metadata": {
  "kernelspec": {
   "display_name": "my-jupyter-citation",
   "language": "python",
   "name": "my-jupyter-citation"
  },
  "language_info": {
   "codemirror_mode": {
    "name": "ipython",
    "version": 3
   },
   "file_extension": ".py",
   "mimetype": "text/x-python",
   "name": "python",
   "nbconvert_exporter": "python",
   "pygments_lexer": "ipython3",
   "version": "3.11.7"
  }
 },
 "nbformat": 4,
 "nbformat_minor": 5
}

{
 "cells": [
  {
   "cell_type": "code",
   "execution_count": null,
   "id": "09992c2d-9226-48d3-8c66-2f5f02131a20",
   "metadata": {},
   "outputs": [],
   "source": [
    "import pandas as pd\n",
    "import numpy as np\n",
    "import json\n",
    "from tqdm.std import tqdm"
   ]
  },
  {
   "cell_type": "code",
   "execution_count": null,
   "id": "7a19c8b3-7fdb-444f-b727-c760570c12f5",
   "metadata": {},
   "outputs": [],
   "source": [
    "input_file = \"Passage_Reranking_Input/model's output after processing by 'process_to_eval'\"\n",
    "model_name = \"model name\"\n",
    "output_file_name = \"Passage_Reranking_Output/\""
   ]
  },
  {
   "cell_type": "code",
   "execution_count": null,
   "id": "0ec4ceac-4078-4c6f-84c8-c4984b671798",
   "metadata": {},
   "outputs": [],
   "source": [
    "df = pd.read_csv(input_file,sep=\"\\t\")"
   ]
  },
  {
   "cell_type": "code",
   "execution_count": null,
   "id": "157d1abb-7313-4c24-bb61-3fe64e2938de",
   "metadata": {},
   "outputs": [],
   "source": [
    "df"
   ]
  },
  {
   "cell_type": "code",
   "execution_count": null,
   "id": "ddfa7700-0b20-4518-8972-9793d1a42475",
   "metadata": {},
   "outputs": [],
   "source": [
    "K = [5,10,15,20,30,60]"
   ]
  },
  {
   "cell_type": "code",
   "execution_count": null,
   "id": "6209e946-dde1-48af-8aea-b29fda4830b7",
   "metadata": {},
   "outputs": [],
   "source": [
    "def compute_err(relevance_scores, k):\n",
    "    \"\"\"Compute the Expected Reciprocal Rank (ERR) for a given ranked list.\"\"\"\n",
    "    err = 0.0\n",
    "    prob_not_satisfied = 1.0\n",
    "    \n",
    "    # The relevance level is 0-4, normalized to the range 0-1\n",
    "    for r in range(1, min(k, len(relevance_scores)) + 1):\n",
    "        g = relevance_scores[r - 1]\n",
    "        # Normalize the correlation score to 0-1, the denominator should be 2^4 - 1 = 15\n",
    "        R_r = (2**g - 1) / 15  # Here g is the correlation score from 0 to 4\n",
    "        \n",
    "        # Ensure that the value of R_r is within a reasonable range\n",
    "        R_r = max(0, min(R_r, 1))\n",
    "        \n",
    "        # Accumulate the value of ERR\n",
    "        err += (1 / r) * prob_not_satisfied * R_r\n",
    "        \n",
    "        # Update the probability that the user is not satisfied\n",
    "        prob_not_satisfied *= (1 - R_r)\n",
    "        \n",
    "    return err"
   ]
  },
  {
   "cell_type": "code",
   "execution_count": null,
   "id": "322be772-f0f1-4f40-87be-8411c5d10906",
   "metadata": {},
   "outputs": [],
   "source": [
    "def final_result(df, k):\n",
    "    results = []\n",
    "    for qid, group in df.groupby('qid'):\n",
    "        # Get ranking relevance score\n",
    "        relevance_scores = group.sort_values(by='rank')['relevance_score'].tolist()\n",
    "        \n",
    "       # Calculate the raw ERR\n",
    "        err = compute_err(relevance_scores, k=k)\n",
    "        \n",
    "        results.append({'qid': qid, 'ERR': err})\n",
    "    \n",
    "\n",
    "    results_df = pd.DataFrame(results)\n",
    "\n",
    "    mean_err = results_df['ERR'].mean()\n",
    "\n",
    "    overall_row_mean={\n",
    "        'qid': 'Overall (Simple Average)',\n",
    "        'ERR': round(mean_err,5)}\n",
    "    \n",
    "    return overall_row_mean"
   ]
  },
  {
   "cell_type": "code",
   "execution_count": null,
   "id": "05628d47-e2d5-4f38-b064-eb602002166d",
   "metadata": {},
   "outputs": [],
   "source": [
    "err_result = []\n",
    "for k in tqdm(K):\n",
    "    res = final_result(df, k)\n",
    "    err_result.append({f\"err@{k}\": res.get(\"ERR\")})"
   ]
  },
  {
   "cell_type": "code",
   "execution_count": null,
   "id": "770af3ca-a586-48f7-ad7d-bbe493a0c5fe",
   "metadata": {},
   "outputs": [],
   "source": [
    "err_result"
   ]
  },
  {
   "cell_type": "code",
   "execution_count": null,
   "id": "1d4e6e83-0852-48e3-af6e-481296ec02b3",
   "metadata": {},
   "outputs": [],
   "source": [
    "with open(f\"{output_file_name}/err_{model_name}.json\", \"w\") as f:\n",
    "    json.dump(err_result,f,indent=4)"
   ]
  },
  {
   "cell_type": "code",
   "execution_count": null,
   "id": "07d721dd-4366-4245-91c8-6809b651aad1",
   "metadata": {},
   "outputs": [],
   "source": []
  }
 ],
 "metadata": {
  "kernelspec": {
   "display_name": "my-jupyter-citation",
   "language": "python",
   "name": "my-jupyter-citation"
  },
  "language_info": {
   "codemirror_mode": {
    "name": "ipython",
    "version": 3
   },
   "file_extension": ".py",
   "mimetype": "text/x-python",
   "name": "python",
   "nbconvert_exporter": "python",
   "pygments_lexer": "ipython3",
   "version": "3.11.7"
  }
 },
 "nbformat": 4,
 "nbformat_minor": 5
}

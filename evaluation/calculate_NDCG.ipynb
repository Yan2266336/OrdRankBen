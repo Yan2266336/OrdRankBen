{
 "cells": [
  {
   "cell_type": "code",
   "execution_count": null,
   "id": "67b50c9b-6100-4742-b0e7-817737a3a72d",
   "metadata": {},
   "outputs": [],
   "source": [
    "import numpy as np\n",
    "import pandas as pd\n",
    "from tqdm.std import tqdm\n",
    "import json"
   ]
  },
  {
   "cell_type": "code",
   "execution_count": null,
   "id": "6e6f2297-85e1-4bd8-be3d-3235f692d609",
   "metadata": {},
   "outputs": [],
   "source": [
    "input_file = \"Passage_Reranking_Input/model's output after processing by 'process_to_eval'\"\n",
    "model_name = \"model name\"\n",
    "output_file_name = \"Passage_Reranking_Output/\""
   ]
  },
  {
   "cell_type": "code",
   "execution_count": null,
   "id": "518c1c55-aa93-4959-a570-dbcabe439fff",
   "metadata": {},
   "outputs": [],
   "source": [
    "df = pd.read_csv(input_file,sep=\"\\t\")"
   ]
  },
  {
   "cell_type": "code",
   "execution_count": null,
   "id": "2f6f9a2d-607b-4108-84f4-4052185a4a7b",
   "metadata": {},
   "outputs": [],
   "source": [
    "df"
   ]
  },
  {
   "cell_type": "code",
   "execution_count": null,
   "id": "3bf1db42-25a0-4aa3-aefc-544dd2f216c6",
   "metadata": {},
   "outputs": [],
   "source": [
    "def dcg_at_k(relevance_scores, k):\n",
    "    \"\"\"Compute Discounted Cumulative Gain (DCG) at rank k.\"\"\"\n",
    "    dcg = 0.0\n",
    "    for i in range(min(k, len(relevance_scores))):\n",
    "        rel = relevance_scores[i]\n",
    "        dcg += (2**rel - 1) / np.log2(i + 2)  # log2(i+2) to avoid log(1)\n",
    "    return dcg"
   ]
  },
  {
   "cell_type": "code",
   "execution_count": null,
   "id": "3deb714d-ebb8-4569-8ba9-8f848fd1da28",
   "metadata": {},
   "outputs": [],
   "source": [
    "def ndcg_at_k(relevance_scores, k):\n",
    "    \"\"\"Compute Normalized Discounted Cumulative Gain (nDCG) at rank k.\"\"\"\n",
    "    actual_dcg = dcg_at_k(relevance_scores, k)\n",
    "    \n",
    "    # Compute ideal DCG (IDCG) using sorted relevance scores (descending)\n",
    "    ideal_relevance_scores = sorted(relevance_scores, reverse=True)\n",
    "    ideal_dcg = dcg_at_k(ideal_relevance_scores, k)\n",
    "    \n",
    "    return actual_dcg / ideal_dcg if ideal_dcg > 0 else 0.0"
   ]
  },
  {
   "cell_type": "code",
   "execution_count": null,
   "id": "600118db-7442-472c-ba6c-c06dcf831b86",
   "metadata": {},
   "outputs": [],
   "source": [
    "def final_ndcg_result(df, k):\n",
    "    results = []\n",
    "    for qid, group in df.groupby('qid'):\n",
    "        # Sort documents by rank and extract relevance scores\n",
    "        relevance_scores = group.sort_values(by='rank')['relevance_score'].tolist()\n",
    "        \n",
    "        # Compute nDCG@k\n",
    "        ndcg = ndcg_at_k(relevance_scores, k)\n",
    "        \n",
    "        results.append({'qid': qid, 'nDCG': ndcg})\n",
    "    \n",
    "    results_df = pd.DataFrame(results)\n",
    "\n",
    "    mean_ndcg = results_df['nDCG'].mean()\n",
    "\n",
    "    overall_row_mean = {\n",
    "        'qid': 'Overall (Simple Average)',\n",
    "        'nDCG': round(mean_ndcg,5)\n",
    "    }\n",
    "    \n",
    "    return overall_row_mean"
   ]
  },
  {
   "cell_type": "code",
   "execution_count": null,
   "id": "3b7ce243-9ff0-4d51-b851-042b7eea11b3",
   "metadata": {},
   "outputs": [],
   "source": [
    "K = [5,10,15,20,30,60]"
   ]
  },
  {
   "cell_type": "code",
   "execution_count": null,
   "id": "22425626-bab6-402f-ba7e-8be22c6eb62f",
   "metadata": {},
   "outputs": [],
   "source": [
    "ndcg_result = []\n",
    "for k in tqdm(K):\n",
    "    res = final_ndcg_result(df, k)\n",
    "    ndcg_result.append({f\"nDCG@{k}\": res.get(\"nDCG\")})"
   ]
  },
  {
   "cell_type": "code",
   "execution_count": null,
   "id": "c73378ab-0d96-44ed-9055-391f649813f2",
   "metadata": {},
   "outputs": [],
   "source": [
    "ndcg_result"
   ]
  },
  {
   "cell_type": "code",
   "execution_count": null,
   "id": "6ff8a715-e785-40be-946d-c1a3099d7a77",
   "metadata": {},
   "outputs": [],
   "source": [
    "with open(f\"{output_file_name}/ndcg_{model_name}.json\", \"w\") as f:\n",
    "    json.dump(ndcg_result,f,indent=4)"
   ]
  },
  {
   "cell_type": "code",
   "execution_count": null,
   "id": "beff4809-b888-4f16-8c97-a9bd56ced091",
   "metadata": {},
   "outputs": [],
   "source": []
  }
 ],
 "metadata": {
  "kernelspec": {
   "display_name": "my-jupyter-citation",
   "language": "python",
   "name": "my-jupyter-citation"
  },
  "language_info": {
   "codemirror_mode": {
    "name": "ipython",
    "version": 3
   },
   "file_extension": ".py",
   "mimetype": "text/x-python",
   "name": "python",
   "nbconvert_exporter": "python",
   "pygments_lexer": "ipython3",
   "version": "3.11.7"
  }
 },
 "nbformat": 4,
 "nbformat_minor": 5
}

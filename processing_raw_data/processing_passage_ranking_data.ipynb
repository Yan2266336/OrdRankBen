{
 "cells": [
  {
   "cell_type": "code",
   "execution_count": null,
   "id": "5b3b671a-7696-4e19-a1cb-6784b487cc4f",
   "metadata": {},
   "outputs": [],
   "source": [
    "import os\n",
    "import pandas as pd\n",
    "from tqdm.std import tqdm"
   ]
  },
  {
   "cell_type": "code",
   "execution_count": null,
   "id": "32bbc444-6042-40ae-a877-d0c17db9c813",
   "metadata": {},
   "outputs": [],
   "source": [
    "data_path = \"document/top1000.dev\""
   ]
  },
  {
   "cell_type": "code",
   "execution_count": null,
   "id": "8e5f20e6-8f95-41a4-a7f8-b3e8479feec3",
   "metadata": {},
   "outputs": [],
   "source": [
    "data = pd.read_csv(data_path,sep=\"\\t\", names=[\"qid\",\"pid\",\"query\",\"passage\"])"
   ]
  },
  {
   "cell_type": "code",
   "execution_count": null,
   "id": "ef92d842-c3a3-4971-8b12-fcc8e86d624b",
   "metadata": {},
   "outputs": [],
   "source": [
    "data.head(10)"
   ]
  },
  {
   "cell_type": "code",
   "execution_count": null,
   "id": "34fdf349-7581-4e04-a56a-cdae50c390c2",
   "metadata": {},
   "outputs": [],
   "source": [
    "len(data)"
   ]
  },
  {
   "cell_type": "code",
   "execution_count": null,
   "id": "4350a2bb-5fdf-44b9-a398-1a2bc42b1a1a",
   "metadata": {},
   "outputs": [],
   "source": [
    "data_groups = data.groupby(\"qid\").size()"
   ]
  },
  {
   "cell_type": "code",
   "execution_count": null,
   "id": "9df6db1d-7b22-4343-bc91-39cfd00eb79f",
   "metadata": {},
   "outputs": [],
   "source": [
    "data_groups"
   ]
  },
  {
   "cell_type": "code",
   "execution_count": null,
   "id": "b6b67f39-9648-4188-a634-bc1c68730969",
   "metadata": {},
   "outputs": [],
   "source": [
    "# Check if each qid corresponds to 1000 instances\n",
    "\n",
    "invalid_qids = data_groups[data_groups > 100]\n",
    "print(\"The following qids do not meet the criteria：\")\n",
    "print(invalid_qids)"
   ]
  },
  {
   "cell_type": "code",
   "execution_count": null,
   "id": "f7682a40-792e-44a4-83de-ce31910f2ce1",
   "metadata": {},
   "outputs": [],
   "source": [
    "large_qid = invalid_qids.index"
   ]
  },
  {
   "cell_type": "code",
   "execution_count": null,
   "id": "dbf2bea8-a4af-483b-a742-4ae2028445b6",
   "metadata": {},
   "outputs": [],
   "source": [
    "large_qid"
   ]
  },
  {
   "cell_type": "markdown",
   "id": "b01728f4-8ad1-43f6-a6f5-46cb3a6fc352",
   "metadata": {},
   "source": [
    "## qrels"
   ]
  },
  {
   "cell_type": "code",
   "execution_count": null,
   "id": "3ac72a27-1010-4901-b98a-4bea47c38b37",
   "metadata": {},
   "outputs": [],
   "source": [
    "dev_qrels = pd.read_csv(\"document/qrels.dev.tsv\",sep=\"\\t\", names=[\"qid\", \"iteration\", \"pid\", \"relevance_score\"])"
   ]
  },
  {
   "cell_type": "code",
   "execution_count": null,
   "id": "03184aeb-f2f3-484f-8b5a-da870aa8ed0e",
   "metadata": {},
   "outputs": [],
   "source": [
    "dev_qrels"
   ]
  },
  {
   "cell_type": "code",
   "execution_count": null,
   "id": "0b8b65e1-c9d7-4294-8372-c703b5f0fada",
   "metadata": {},
   "outputs": [],
   "source": [
    "dev_qrels_group = dev_qrels.groupby(\"qid\")"
   ]
  },
  {
   "cell_type": "code",
   "execution_count": null,
   "id": "4c5e1fdd-0fb3-453a-b405-47c265456654",
   "metadata": {},
   "outputs": [],
   "source": [
    "dev_qrels_group.size()"
   ]
  },
  {
   "cell_type": "markdown",
   "id": "c9e4ed79-dd0b-4aa1-88e3-f4781310077b",
   "metadata": {},
   "source": [
    "## filter all positive instance"
   ]
  },
  {
   "cell_type": "code",
   "execution_count": null,
   "id": "e6d06d46-a6bf-422a-8783-0df199d58597",
   "metadata": {},
   "outputs": [],
   "source": [
    "filter_positive_df = pd.merge(left=data,right=dev_qrels,on=[\"pid\",\"qid\"],how='left')"
   ]
  },
  {
   "cell_type": "code",
   "execution_count": null,
   "id": "4b311f16-97f4-4b0a-ad90-d361703b8ff6",
   "metadata": {},
   "outputs": [],
   "source": [
    "filter_positive_df"
   ]
  },
  {
   "cell_type": "code",
   "execution_count": null,
   "id": "78cd3856-aa62-4333-ba8a-9dedb92b79dc",
   "metadata": {},
   "outputs": [],
   "source": [
    "new_data = filter_positive_df[[\"qid\",\"pid\",\"query\",\"passage\",\"relevance_score\"]]"
   ]
  },
  {
   "cell_type": "code",
   "execution_count": null,
   "id": "8622d201-e302-432f-bb0f-d1bc757cf1b4",
   "metadata": {},
   "outputs": [],
   "source": [
    "new_data.fillna(0,inplace=True)"
   ]
  },
  {
   "cell_type": "code",
   "execution_count": null,
   "id": "713d1db6-c5ac-4e74-b162-c88cd1c471e7",
   "metadata": {},
   "outputs": [],
   "source": [
    "new_data"
   ]
  },
  {
   "cell_type": "code",
   "execution_count": null,
   "id": "4815ae35-77ed-414b-b6ed-d12a042e44fa",
   "metadata": {},
   "outputs": [],
   "source": [
    "new_data = new_data[new_data.qid.isin(large_qid)]"
   ]
  },
  {
   "cell_type": "code",
   "execution_count": null,
   "id": "d0f87460-9beb-4adf-9d79-be8a9d7c2135",
   "metadata": {},
   "outputs": [],
   "source": [
    "new_data.reset_index(drop=True,inplace=True)"
   ]
  },
  {
   "cell_type": "code",
   "execution_count": null,
   "id": "ec8a4d6e-7151-4b82-adab-06a9cb9d0609",
   "metadata": {},
   "outputs": [],
   "source": [
    "new_data"
   ]
  },
  {
   "cell_type": "code",
   "execution_count": null,
   "id": "a975643e-66f2-4fad-96b5-b2ddb8af56b4",
   "metadata": {},
   "outputs": [],
   "source": [
    "filter_results = []\n",
    "\n",
    "for qid, group in tqdm(new_data.groupby(\"qid\")):\n",
    "    \n",
    "    ones = group[group[\"relevance_score\"] == 1.0]\n",
    "    zeros = group[group[\"relevance_score\"] == 0.0]\n",
    "\n",
    "    # Randomly sample the required number of rows from zeros\n",
    "    required_zeros = 100 - len(ones)\n",
    "    sampled_zeros = zeros.sample(n=required_zeros, random_state=42, replace=False)\n",
    "\n",
    "    # Combine the results\n",
    "    new_group = pd.concat([ones, sampled_zeros])\n",
    "    filter_results.append(new_group)"
   ]
  },
  {
   "cell_type": "code",
   "execution_count": null,
   "id": "2256ea62-3e25-439e-922d-dca4a97c0c52",
   "metadata": {},
   "outputs": [],
   "source": [
    "final_df = pd.concat(filter_results).reset_index(drop=True)"
   ]
  },
  {
   "cell_type": "code",
   "execution_count": null,
   "id": "bf83e43f-53ec-40a9-b82f-ab40ba4f84a5",
   "metadata": {},
   "outputs": [],
   "source": [
    "final_df"
   ]
  },
  {
   "cell_type": "code",
   "execution_count": null,
   "id": "a55776a1-a6e1-4546-99b9-6466bf0e3345",
   "metadata": {},
   "outputs": [],
   "source": [
    "final_df.to_csv(\"document/filtered_passage_reranking_data.tsv\", sep=\"\\t\", index=False)"
   ]
  },
  {
   "cell_type": "code",
   "execution_count": null,
   "id": "2b6f5cbb-bbcf-43a7-807c-21246632ffc4",
   "metadata": {},
   "outputs": [],
   "source": []
  }
 ],
 "metadata": {
  "kernelspec": {
   "display_name": "my-jupyter-citation",
   "language": "python",
   "name": "my-jupyter-citation"
  },
  "language_info": {
   "codemirror_mode": {
    "name": "ipython",
    "version": 3
   },
   "file_extension": ".py",
   "mimetype": "text/x-python",
   "name": "python",
   "nbconvert_exporter": "python",
   "pygments_lexer": "ipython3",
   "version": "3.11.7"
  }
 },
 "nbformat": 4,
 "nbformat_minor": 5
}

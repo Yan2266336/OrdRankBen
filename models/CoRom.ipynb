{
 "cells": [
  {
   "cell_type": "code",
   "execution_count": null,
   "id": "87b02959-1445-4db4-8c94-2b9ec49e481a",
   "metadata": {},
   "outputs": [],
   "source": [
    "from modelscope.models import Model\n",
    "from modelscope.pipelines import pipeline\n",
    "# Version less than 1.1 please use TextRankingPreprocessor\n",
    "from modelscope.preprocessors import TextRankingTransformersPreprocessor\n",
    "from modelscope.utils.constant import Tasks"
   ]
  },
  {
   "cell_type": "code",
   "execution_count": null,
   "id": "76733fba-b95a-4b43-95cb-7a3695288393",
   "metadata": {},
   "outputs": [],
   "source": [
    "from tqdm.std import tqdm\n",
    "import json\n",
    "import pandas as pd\n",
    "import os"
   ]
  },
  {
   "cell_type": "code",
   "execution_count": null,
   "id": "1b6d4985-d1eb-4f29-b1a7-66bcf78a005e",
   "metadata": {},
   "outputs": [],
   "source": [
    "os.environ[\"CUDA_LAUNCH_BLOCKING\"] = \"1\""
   ]
  },
  {
   "cell_type": "code",
   "execution_count": null,
   "id": "7008b048-2f71-44a9-a57f-513a39a807f8",
   "metadata": {},
   "outputs": [],
   "source": [
    "model_name = \"damo/nlp_corom_passage-ranking_english-base\"\n",
    "data_path = \"../passage_ranking_input_true_data/passage_ranking_query.tsv\"\n",
    "output_path = \"../passage_output_result/CoRom_result.tsv\"\n",
    "batch_size = 100 "
   ]
  },
  {
   "cell_type": "markdown",
   "id": "2102be9a-8c26-469b-8442-753fb5d96b83",
   "metadata": {},
   "source": [
    "## loading data"
   ]
  },
  {
   "cell_type": "code",
   "execution_count": null,
   "id": "456923d7-84a3-4672-ba0f-3fc9fac8325e",
   "metadata": {},
   "outputs": [],
   "source": [
    "dataset = pd.read_csv(data_path,sep='\\t')"
   ]
  },
  {
   "cell_type": "code",
   "execution_count": null,
   "id": "9edceffb-1195-4c99-a6f1-dcbb39cedac8",
   "metadata": {},
   "outputs": [],
   "source": [
    "dataset"
   ]
  },
  {
   "cell_type": "markdown",
   "id": "e0c080af-2006-4a01-b002-36c8d7fec1b6",
   "metadata": {},
   "source": [
    "## loading model"
   ]
  },
  {
   "cell_type": "code",
   "execution_count": null,
   "id": "cb32920f-2016-4c6e-8d6e-ef66e506f261",
   "metadata": {},
   "outputs": [],
   "source": [
    "model = Model.from_pretrained(model_name)\n",
    "preprocessor = TextRankingTransformersPreprocessor(model.model_dir)\n",
    "pipeline_ins = pipeline(task=Tasks.text_ranking, model=model, preprocessor=preprocessor)"
   ]
  },
  {
   "cell_type": "markdown",
   "id": "1c2a0224-fb28-4ec3-9671-04195fdaa31b",
   "metadata": {},
   "source": [
    "## ranking"
   ]
  },
  {
   "cell_type": "code",
   "execution_count": null,
   "id": "5fe4a254-ee48-426d-b56a-d520dee534d8",
   "metadata": {},
   "outputs": [],
   "source": [
    "def get_scores(input_df,batch_size):\n",
    "    scores = []\n",
    "\n",
    "    query = list(set(input_df[\"query\"].tolist()))\n",
    "    candidates = input_df[\"passage\"].tolist()\n",
    "        \n",
    "    for i in range(0,len(candidates),batch_size):\n",
    "        passage_list = candidates[i:i+batch_size]\n",
    "        input = {\"source_sentence\": query,\n",
    "                 \"sentences_to_compare\": passage_list}\n",
    "        score = pipeline_ins(input=input)\n",
    "        scores.extend(score.get('scores'))\n",
    "    return scores\n",
    "        "
   ]
  },
  {
   "cell_type": "code",
   "execution_count": null,
   "id": "3e39b786-aac5-42b9-9cfe-c31df8e330a2",
   "metadata": {},
   "outputs": [],
   "source": [
    "chunk_size = 100\n",
    "ranked_docids = []\n",
    "ranked_scores = []\n",
    "for i in tqdm(range(0,len(dataset),chunk_size)):\n",
    "    input_df = dataset[i:i+chunk_size]\n",
    "    scores = get_scores(input_df, batch_size)\n",
    "    # print(scores)\n",
    "\n",
    "    # docids = input_df[\"docid\"].tolist()\n",
    "    docids = input_df[\"pid\"].tolist()\n",
    "    \n",
    "    sorted_scores_docids = sorted(zip(scores, docids), reverse=True, key=lambda x: x[0])\n",
    "    sorted_scores = [score for score, docid in sorted_scores_docids]\n",
    "    sorted_docids = [docid for score, docid in sorted_scores_docids]\n",
    "\n",
    "    ranked_docids.extend(sorted_docids)\n",
    "    ranked_scores.extend(sorted_scores)\n"
   ]
  },
  {
   "cell_type": "code",
   "execution_count": null,
   "id": "614d377f-055d-4e56-b580-195245bef864",
   "metadata": {},
   "outputs": [],
   "source": [
    "## for document ranking\n",
    "# dataset[\"ranked_docid\"] = ranked_docids\n",
    "# dataset[\"scores\"] = ranked_scores\n",
    "\n",
    "## for passage rankng\n",
    "dataset[\"ranked_pid\"] = ranked_docids\n",
    "dataset[\"scores\"] = ranked_scores"
   ]
  },
  {
   "cell_type": "code",
   "execution_count": null,
   "id": "133106f1-bb95-4ae8-bab0-9cd4603a948f",
   "metadata": {},
   "outputs": [],
   "source": [
    "# dataset = dataset[[\"qid\",\"docid\",\"ranked_docid\",\"scores\"]]\n",
    "\n",
    "dataset = dataset[[\"qid\",\"pid\",\"ranked_pid\",\"scores\"]]"
   ]
  },
  {
   "cell_type": "code",
   "execution_count": null,
   "id": "33b7c00f-f190-4d77-a1a5-9f6d49014684",
   "metadata": {},
   "outputs": [],
   "source": [
    "dataset.to_csv(output_path,sep=\"\\t\",index=False)"
   ]
  },
  {
   "cell_type": "code",
   "execution_count": null,
   "id": "799de6e6-3381-4634-87ae-582fc5da2e2d",
   "metadata": {},
   "outputs": [],
   "source": []
  }
 ],
 "metadata": {
  "kernelspec": {
   "display_name": "my-jupyter-citation",
   "language": "python",
   "name": "my-jupyter-citation"
  },
  "language_info": {
   "codemirror_mode": {
    "name": "ipython",
    "version": 3
   },
   "file_extension": ".py",
   "mimetype": "text/x-python",
   "name": "python",
   "nbconvert_exporter": "python",
   "pygments_lexer": "ipython3",
   "version": "3.11.7"
  }
 },
 "nbformat": 4,
 "nbformat_minor": 5
}
